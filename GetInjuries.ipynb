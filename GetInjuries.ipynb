{
 "cells": [
  {
   "cell_type": "code",
   "execution_count": 3,
   "id": "d7df0463-418b-463a-81d7-468c29327a61",
   "metadata": {},
   "outputs": [
    {
     "data": {
      "application/javascript": [
       "if (!(\"Notification\" in window)) {\n",
       "    alert(\"This browser does not support desktop notifications, so the %%notify magic will not work.\");\n",
       "} else if (Notification.permission !== 'granted' && Notification.permission !== 'denied') {\n",
       "    Notification.requestPermission(function (permission) {\n",
       "        if(!('permission' in Notification)) {\n",
       "            Notification.permission = permission;\n",
       "        }\n",
       "    })\n",
       "}\n"
      ],
      "text/plain": [
       "<IPython.core.display.Javascript object>"
      ]
     },
     "metadata": {},
     "output_type": "display_data"
    }
   ],
   "source": [
    "from bs4 import BeautifulSoup as BS\n",
    "import pandas as pd\n",
    "import numpy as np\n",
    "import requests\n",
    "from datetime import datetime\n",
    "import pickle as pkl\n",
    "import jupyternotify\n",
    "ip = get_ipython()\n",
    "ip.register_magics(jupyternotify.JupyterNotifyMagics)"
   ]
  },
  {
   "cell_type": "code",
   "execution_count": 4,
   "id": "118ab493-6a8d-42a3-ab91-fa125bdf6065",
   "metadata": {},
   "outputs": [],
   "source": [
    "plr_names = pd.read_csv('stats.csv')\n",
    "base_url = 'https://www.mlb.com/player/'"
   ]
  },
  {
   "cell_type": "code",
   "execution_count": 5,
   "id": "abf76633-6ef4-454a-9890-2a8efb6097c5",
   "metadata": {},
   "outputs": [
    {
     "data": {
      "text/plain": [
       "101"
      ]
     },
     "execution_count": 5,
     "metadata": {},
     "output_type": "execute_result"
    }
   ],
   "source": [
    "len(plr_names)"
   ]
  },
  {
   "cell_type": "code",
   "execution_count": 6,
   "id": "07fdec9f-1824-44f0-8bf0-01e37b03eed7",
   "metadata": {},
   "outputs": [],
   "source": [
    "def get_plr_site_info(i):\n",
    "    row = plr_names.iloc[i]\n",
    "    plr_name = f'{row[\" first_name\"].strip().lower()}-{row[\"last_name\"].lower()}'\n",
    "    url = f'{base_url}{row[\" first_name\"].strip().lower()}-{row[\"last_name\"].lower()}-{row[\"player_id\"]}'\n",
    "    \n",
    "    r = requests.get(url)\n",
    "    soup = BS(r.text, 'html.parser')\n",
    "    return soup, plr_name, row[\"player_id\"]"
   ]
  },
  {
   "cell_type": "code",
   "execution_count": 7,
   "id": "678aeb19-0a13-4018-b111-4e732b61790b",
   "metadata": {
    "tags": []
   },
   "outputs": [],
   "source": [
    "plr_injury_dates = {}\n",
    "plr_ids_by_name = {}\n",
    "for j in range(101):\n",
    "    soup, plr_name, plr_id = get_plr_site_info(j)\n",
    "    try:\n",
    "        table = soup.find(id='transactions').find('table')\n",
    "    except:\n",
    "        print(f\"Problem with player, {plr_name}\")\n",
    "        break\n",
    "    tbody = table.find('tbody')\n",
    "    rows = tbody.find_all('tr')\n",
    "    table = []\n",
    "    for row in rows:\n",
    "        cols = row.find_all('td')\n",
    "        table.append(cols)\n",
    "    n_rows = len(table)\n",
    "    \n",
    "    injury_dates = []\n",
    "    for i in range(n_rows):\n",
    "        entry = table[i][2].string\n",
    "        if entry is None:\n",
    "            continue\n",
    "        try:\n",
    "            is_injury_row = ('disabled list' in entry or 'injured list' in entry)\n",
    "        except:\n",
    "            print(f'Error on row {i} of {plr_name}')\n",
    "            break\n",
    "        if is_injury_row:\n",
    "            placed = 'placed' in entry\n",
    "            activated = 'activated' in entry\n",
    "            transferred = 'transferred' in entry\n",
    "            try:\n",
    "                assert placed + activated + transferred == 1\n",
    "            except:\n",
    "                print(f'Error: the following entry did not follow the placed/activated/transferred trichotomy \\n {entry}\\n on row {i}')\n",
    "                break\n",
    "            if placed:\n",
    "                injury_dates.append(datetime.strptime(table[i][1].contents[0], '%B %d, %Y'))\n",
    "    plr_injury_dates[plr_name] = injury_dates\n",
    "    plr_ids_by_name[plr_name] = plr_id\n",
    "                \n",
    "                \n"
   ]
  },
  {
   "cell_type": "code",
   "execution_count": 8,
   "id": "e9336616-d5cd-4999-9117-a874155986cc",
   "metadata": {},
   "outputs": [],
   "source": [
    "injuries_by_name = 'inj_by_name.pkl'\n",
    "ids_by_name = 'ids_by_name.pkl'\n",
    "with open(injuries_by_name, 'wb') as f:\n",
    "    pkl.dump(plr_injury_dates, f)\n",
    "\n",
    "with open(ids_by_name, 'wb') as f:\n",
    "    pkl.dump(plr_ids_by_name, f)"
   ]
  },
  {
   "cell_type": "code",
   "execution_count": 13,
   "id": "838aab60-ac5c-4144-818d-bfdf28477b8c",
   "metadata": {},
   "outputs": [
    {
     "data": {
      "text/plain": [
       "('kyle-wright', [])"
      ]
     },
     "execution_count": 13,
     "metadata": {},
     "output_type": "execute_result"
    }
   ],
   "source": [
    "list(plr_injury_dates.items())[72]"
   ]
  },
  {
   "cell_type": "code",
   "execution_count": 2,
   "id": "438fca52-a956-42e5-9b43-031e0783737c",
   "metadata": {},
   "outputs": [
    {
     "name": "stdout",
     "output_type": "stream",
     "text": [
      "hi\n"
     ]
    }
   ],
   "source": [
    "import time\n",
    "time.sleep(5)\n",
    "print('hi')"
   ]
  },
  {
   "cell_type": "code",
   "execution_count": null,
   "id": "2ff057dc-1a5d-4a7a-8664-eaac07ff1e94",
   "metadata": {},
   "outputs": [],
   "source": []
  }
 ],
 "metadata": {
  "kernelspec": {
   "display_name": "Python 3 (ipykernel)",
   "language": "python",
   "name": "python3"
  },
  "language_info": {
   "codemirror_mode": {
    "name": "ipython",
    "version": 3
   },
   "file_extension": ".py",
   "mimetype": "text/x-python",
   "name": "python",
   "nbconvert_exporter": "python",
   "pygments_lexer": "ipython3",
   "version": "3.10.5"
  }
 },
 "nbformat": 4,
 "nbformat_minor": 5
}
